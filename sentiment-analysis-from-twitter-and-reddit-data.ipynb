{
 "cells": [
  {
   "cell_type": "code",
   "execution_count": 1,
   "id": "outer-specific",
   "metadata": {
    "execution": {
     "iopub.execute_input": "2022-10-15T16:13:53.932547Z",
     "iopub.status.busy": "2022-10-15T16:13:53.930804Z",
     "iopub.status.idle": "2022-10-15T16:13:55.881233Z",
     "shell.execute_reply": "2022-10-15T16:13:55.880357Z",
     "shell.execute_reply.started": "2022-10-15T14:06:37.552297Z"
    },
    "papermill": {
     "duration": 1.971286,
     "end_time": "2022-10-15T16:13:55.881420",
     "exception": false,
     "start_time": "2022-10-15T16:13:53.910134",
     "status": "completed"
    },
    "tags": []
   },
   "outputs": [],
   "source": [
    "#Import Statements\n",
    "import pandas as pd\n",
    "import numpy as np\n",
    "import matplotlib.pyplot as plt\n",
    "import seaborn as sns\n",
    "import spacy\n",
    "\n",
    "from xgboost import XGBClassifier\n",
    "from sklearn.svm import LinearSVC"
   ]
  },
  {
   "cell_type": "code",
   "execution_count": 2,
   "id": "nearby-rugby",
   "metadata": {
    "execution": {
     "iopub.execute_input": "2022-10-15T16:13:55.917043Z",
     "iopub.status.busy": "2022-10-15T16:13:55.916302Z",
     "iopub.status.idle": "2022-10-15T16:13:56.190237Z",
     "shell.execute_reply": "2022-10-15T16:13:56.190838Z",
     "shell.execute_reply.started": "2022-10-15T14:06:39.465334Z"
    },
    "papermill": {
     "duration": 0.294317,
     "end_time": "2022-10-15T16:13:56.191026",
     "exception": false,
     "start_time": "2022-10-15T16:13:55.896709",
     "status": "completed"
    },
    "tags": []
   },
   "outputs": [],
   "source": [
    "#Extract reddit data\n",
    "reddit_data = pd.read_csv('../input/twitter-and-reddit-sentimental-analysis-dataset/Reddit_Data.csv')\n",
    "reddit_data.rename(columns = {'clean_comment': 'text'}, inplace = True)"
   ]
  },
  {
   "cell_type": "code",
   "execution_count": 3,
   "id": "subject-dietary",
   "metadata": {
    "execution": {
     "iopub.execute_input": "2022-10-15T16:13:56.224739Z",
     "iopub.status.busy": "2022-10-15T16:13:56.223768Z",
     "iopub.status.idle": "2022-10-15T16:13:56.244658Z",
     "shell.execute_reply": "2022-10-15T16:13:56.245171Z",
     "shell.execute_reply.started": "2022-10-15T14:06:39.676148Z"
    },
    "papermill": {
     "duration": 0.039082,
     "end_time": "2022-10-15T16:13:56.245351",
     "exception": false,
     "start_time": "2022-10-15T16:13:56.206269",
     "status": "completed"
    },
    "tags": []
   },
   "outputs": [
    {
     "data": {
      "text/html": [
       "<div>\n",
       "<style scoped>\n",
       "    .dataframe tbody tr th:only-of-type {\n",
       "        vertical-align: middle;\n",
       "    }\n",
       "\n",
       "    .dataframe tbody tr th {\n",
       "        vertical-align: top;\n",
       "    }\n",
       "\n",
       "    .dataframe thead th {\n",
       "        text-align: right;\n",
       "    }\n",
       "</style>\n",
       "<table border=\"1\" class=\"dataframe\">\n",
       "  <thead>\n",
       "    <tr style=\"text-align: right;\">\n",
       "      <th></th>\n",
       "      <th>text</th>\n",
       "      <th>category</th>\n",
       "    </tr>\n",
       "  </thead>\n",
       "  <tbody>\n",
       "    <tr>\n",
       "      <th>0</th>\n",
       "      <td>family mormon have never tried explain them t...</td>\n",
       "      <td>1</td>\n",
       "    </tr>\n",
       "    <tr>\n",
       "      <th>1</th>\n",
       "      <td>buddhism has very much lot compatible with chr...</td>\n",
       "      <td>1</td>\n",
       "    </tr>\n",
       "    <tr>\n",
       "      <th>2</th>\n",
       "      <td>seriously don say thing first all they won get...</td>\n",
       "      <td>-1</td>\n",
       "    </tr>\n",
       "    <tr>\n",
       "      <th>3</th>\n",
       "      <td>what you have learned yours and only yours wha...</td>\n",
       "      <td>0</td>\n",
       "    </tr>\n",
       "    <tr>\n",
       "      <th>4</th>\n",
       "      <td>for your own benefit you may want read living ...</td>\n",
       "      <td>1</td>\n",
       "    </tr>\n",
       "  </tbody>\n",
       "</table>\n",
       "</div>"
      ],
      "text/plain": [
       "                                                text  category\n",
       "0   family mormon have never tried explain them t...         1\n",
       "1  buddhism has very much lot compatible with chr...         1\n",
       "2  seriously don say thing first all they won get...        -1\n",
       "3  what you have learned yours and only yours wha...         0\n",
       "4  for your own benefit you may want read living ...         1"
      ]
     },
     "execution_count": 3,
     "metadata": {},
     "output_type": "execute_result"
    }
   ],
   "source": [
    "reddit_data.head()"
   ]
  },
  {
   "cell_type": "code",
   "execution_count": 4,
   "id": "blocked-ordinance",
   "metadata": {
    "execution": {
     "iopub.execute_input": "2022-10-15T16:13:56.280685Z",
     "iopub.status.busy": "2022-10-15T16:13:56.279713Z",
     "iopub.status.idle": "2022-10-15T16:13:56.922543Z",
     "shell.execute_reply": "2022-10-15T16:13:56.921469Z",
     "shell.execute_reply.started": "2022-10-15T14:06:39.699330Z"
    },
    "papermill": {
     "duration": 0.661159,
     "end_time": "2022-10-15T16:13:56.922739",
     "exception": false,
     "start_time": "2022-10-15T16:13:56.261580",
     "status": "completed"
    },
    "tags": []
   },
   "outputs": [],
   "source": [
    "#Extract twitter data\n",
    "twitter_data = pd.read_csv('../input/twitter-and-reddit-sentimental-analysis-dataset/Twitter_Data.csv')\n",
    "twitter_data.rename(columns = {'clean_text': 'text'}, inplace = True)"
   ]
  },
  {
   "cell_type": "code",
   "execution_count": 5,
   "id": "alpha-trance",
   "metadata": {
    "execution": {
     "iopub.execute_input": "2022-10-15T16:13:56.968105Z",
     "iopub.status.busy": "2022-10-15T16:13:56.967049Z",
     "iopub.status.idle": "2022-10-15T16:13:56.972494Z",
     "shell.execute_reply": "2022-10-15T16:13:56.971983Z",
     "shell.execute_reply.started": "2022-10-15T14:06:40.338883Z"
    },
    "papermill": {
     "duration": 0.031498,
     "end_time": "2022-10-15T16:13:56.972685",
     "exception": false,
     "start_time": "2022-10-15T16:13:56.941187",
     "status": "completed"
    },
    "tags": []
   },
   "outputs": [
    {
     "data": {
      "text/html": [
       "<div>\n",
       "<style scoped>\n",
       "    .dataframe tbody tr th:only-of-type {\n",
       "        vertical-align: middle;\n",
       "    }\n",
       "\n",
       "    .dataframe tbody tr th {\n",
       "        vertical-align: top;\n",
       "    }\n",
       "\n",
       "    .dataframe thead th {\n",
       "        text-align: right;\n",
       "    }\n",
       "</style>\n",
       "<table border=\"1\" class=\"dataframe\">\n",
       "  <thead>\n",
       "    <tr style=\"text-align: right;\">\n",
       "      <th></th>\n",
       "      <th>text</th>\n",
       "      <th>category</th>\n",
       "    </tr>\n",
       "  </thead>\n",
       "  <tbody>\n",
       "    <tr>\n",
       "      <th>0</th>\n",
       "      <td>when modi promised “minimum government maximum...</td>\n",
       "      <td>-1.0</td>\n",
       "    </tr>\n",
       "    <tr>\n",
       "      <th>1</th>\n",
       "      <td>talk all the nonsense and continue all the dra...</td>\n",
       "      <td>0.0</td>\n",
       "    </tr>\n",
       "    <tr>\n",
       "      <th>2</th>\n",
       "      <td>what did just say vote for modi  welcome bjp t...</td>\n",
       "      <td>1.0</td>\n",
       "    </tr>\n",
       "    <tr>\n",
       "      <th>3</th>\n",
       "      <td>asking his supporters prefix chowkidar their n...</td>\n",
       "      <td>1.0</td>\n",
       "    </tr>\n",
       "    <tr>\n",
       "      <th>4</th>\n",
       "      <td>answer who among these the most powerful world...</td>\n",
       "      <td>1.0</td>\n",
       "    </tr>\n",
       "  </tbody>\n",
       "</table>\n",
       "</div>"
      ],
      "text/plain": [
       "                                                text  category\n",
       "0  when modi promised “minimum government maximum...      -1.0\n",
       "1  talk all the nonsense and continue all the dra...       0.0\n",
       "2  what did just say vote for modi  welcome bjp t...       1.0\n",
       "3  asking his supporters prefix chowkidar their n...       1.0\n",
       "4  answer who among these the most powerful world...       1.0"
      ]
     },
     "execution_count": 5,
     "metadata": {},
     "output_type": "execute_result"
    }
   ],
   "source": [
    "twitter_data.head()"
   ]
  },
  {
   "cell_type": "code",
   "execution_count": 6,
   "id": "liable-insulation",
   "metadata": {
    "execution": {
     "iopub.execute_input": "2022-10-15T16:13:57.017271Z",
     "iopub.status.busy": "2022-10-15T16:13:57.016077Z",
     "iopub.status.idle": "2022-10-15T16:13:57.020140Z",
     "shell.execute_reply": "2022-10-15T16:13:57.020751Z",
     "shell.execute_reply.started": "2022-10-15T14:06:40.354176Z"
    },
    "papermill": {
     "duration": 0.032314,
     "end_time": "2022-10-15T16:13:57.020938",
     "exception": false,
     "start_time": "2022-10-15T16:13:56.988624",
     "status": "completed"
    },
    "tags": []
   },
   "outputs": [],
   "source": [
    "#Combining both dataframes into one master dataframe\n",
    "data = pd.concat([reddit_data, twitter_data], ignore_index = True)"
   ]
  },
  {
   "cell_type": "code",
   "execution_count": 7,
   "id": "every-effect",
   "metadata": {
    "execution": {
     "iopub.execute_input": "2022-10-15T16:13:57.056215Z",
     "iopub.status.busy": "2022-10-15T16:13:57.055499Z",
     "iopub.status.idle": "2022-10-15T16:13:57.061224Z",
     "shell.execute_reply": "2022-10-15T16:13:57.061795Z",
     "shell.execute_reply.started": "2022-10-15T14:06:40.371161Z"
    },
    "papermill": {
     "duration": 0.025142,
     "end_time": "2022-10-15T16:13:57.061998",
     "exception": false,
     "start_time": "2022-10-15T16:13:57.036856",
     "status": "completed"
    },
    "tags": []
   },
   "outputs": [
    {
     "name": "stdout",
     "output_type": "stream",
     "text": [
      "(162980, 2)\n",
      "(37249, 2)\n"
     ]
    }
   ],
   "source": [
    "print(twitter_data.shape)\n",
    "print(reddit_data.shape)"
   ]
  },
  {
   "cell_type": "code",
   "execution_count": 8,
   "id": "approximate-elimination",
   "metadata": {
    "execution": {
     "iopub.execute_input": "2022-10-15T16:13:57.105049Z",
     "iopub.status.busy": "2022-10-15T16:13:57.104329Z",
     "iopub.status.idle": "2022-10-15T16:13:57.107966Z",
     "shell.execute_reply": "2022-10-15T16:13:57.107422Z",
     "shell.execute_reply.started": "2022-10-15T14:06:40.382202Z"
    },
    "papermill": {
     "duration": 0.0297,
     "end_time": "2022-10-15T16:13:57.108130",
     "exception": false,
     "start_time": "2022-10-15T16:13:57.078430",
     "status": "completed"
    },
    "tags": []
   },
   "outputs": [
    {
     "name": "stdout",
     "output_type": "stream",
     "text": [
      "                                                    text  category\n",
      "37244                                              jesus         0\n",
      "37245  kya bhai pure saal chutiya banaya modi aur jab...         1\n",
      "37246              downvote karna tha par upvote hogaya          0\n",
      "37247                                         haha nice          1\n",
      "37248             facebook itself now working bjp’ cell          0\n",
      "                                                text  category\n",
      "0  when modi promised “minimum government maximum...      -1.0\n",
      "1  talk all the nonsense and continue all the dra...       0.0\n",
      "2  what did just say vote for modi  welcome bjp t...       1.0\n",
      "3  asking his supporters prefix chowkidar their n...       1.0\n",
      "4  answer who among these the most powerful world...       1.0\n"
     ]
    }
   ],
   "source": [
    "print(reddit_data.tail())\n",
    "print(twitter_data.head())"
   ]
  },
  {
   "cell_type": "code",
   "execution_count": 9,
   "id": "acceptable-fever",
   "metadata": {
    "execution": {
     "iopub.execute_input": "2022-10-15T16:13:57.145124Z",
     "iopub.status.busy": "2022-10-15T16:13:57.144171Z",
     "iopub.status.idle": "2022-10-15T16:13:57.153490Z",
     "shell.execute_reply": "2022-10-15T16:13:57.152963Z",
     "shell.execute_reply.started": "2022-10-15T14:06:40.396083Z"
    },
    "papermill": {
     "duration": 0.028878,
     "end_time": "2022-10-15T16:13:57.153669",
     "exception": false,
     "start_time": "2022-10-15T16:13:57.124791",
     "status": "completed"
    },
    "tags": []
   },
   "outputs": [
    {
     "name": "stdout",
     "output_type": "stream",
     "text": [
      "                                                    text  category\n",
      "37244                                              jesus       0.0\n",
      "37245  kya bhai pure saal chutiya banaya modi aur jab...       1.0\n",
      "37246              downvote karna tha par upvote hogaya        0.0\n",
      "37247                                         haha nice        1.0\n",
      "37248             facebook itself now working bjp’ cell        0.0\n",
      "37249  when modi promised “minimum government maximum...      -1.0\n",
      "37250  talk all the nonsense and continue all the dra...       0.0\n",
      "37251  what did just say vote for modi  welcome bjp t...       1.0\n",
      "37252  asking his supporters prefix chowkidar their n...       1.0\n",
      "37253  answer who among these the most powerful world...       1.0\n"
     ]
    }
   ],
   "source": [
    "print(data.iloc[37244:37254,:])"
   ]
  },
  {
   "cell_type": "code",
   "execution_count": 10,
   "id": "verbal-folks",
   "metadata": {
    "execution": {
     "iopub.execute_input": "2022-10-15T16:13:57.191096Z",
     "iopub.status.busy": "2022-10-15T16:13:57.190420Z",
     "iopub.status.idle": "2022-10-15T16:13:57.214496Z",
     "shell.execute_reply": "2022-10-15T16:13:57.215114Z",
     "shell.execute_reply.started": "2022-10-15T14:06:40.411882Z"
    },
    "papermill": {
     "duration": 0.044484,
     "end_time": "2022-10-15T16:13:57.215301",
     "exception": false,
     "start_time": "2022-10-15T16:13:57.170817",
     "status": "completed"
    },
    "tags": []
   },
   "outputs": [
    {
     "data": {
      "text/plain": [
       "text        104\n",
       "category      7\n",
       "dtype: int64"
      ]
     },
     "execution_count": 10,
     "metadata": {},
     "output_type": "execute_result"
    }
   ],
   "source": [
    "#Check for any null values\n",
    "data.isna().sum()"
   ]
  },
  {
   "cell_type": "code",
   "execution_count": 11,
   "id": "grand-alabama",
   "metadata": {
    "execution": {
     "iopub.execute_input": "2022-10-15T16:13:57.253050Z",
     "iopub.status.busy": "2022-10-15T16:13:57.252379Z",
     "iopub.status.idle": "2022-10-15T16:13:57.312229Z",
     "shell.execute_reply": "2022-10-15T16:13:57.311470Z",
     "shell.execute_reply.started": "2022-10-15T14:06:40.441516Z"
    },
    "papermill": {
     "duration": 0.079907,
     "end_time": "2022-10-15T16:13:57.312379",
     "exception": false,
     "start_time": "2022-10-15T16:13:57.232472",
     "status": "completed"
    },
    "tags": []
   },
   "outputs": [],
   "source": [
    "#Drop rows with null values\n",
    "data.dropna(axis = 0, inplace = True)"
   ]
  },
  {
   "cell_type": "code",
   "execution_count": 12,
   "id": "thick-percentage",
   "metadata": {
    "execution": {
     "iopub.execute_input": "2022-10-15T16:13:57.352334Z",
     "iopub.status.busy": "2022-10-15T16:13:57.351478Z",
     "iopub.status.idle": "2022-10-15T16:13:57.355846Z",
     "shell.execute_reply": "2022-10-15T16:13:57.355241Z",
     "shell.execute_reply.started": "2022-10-15T14:06:40.505851Z"
    },
    "papermill": {
     "duration": 0.026273,
     "end_time": "2022-10-15T16:13:57.356013",
     "exception": false,
     "start_time": "2022-10-15T16:13:57.329740",
     "status": "completed"
    },
    "tags": []
   },
   "outputs": [
    {
     "data": {
      "text/plain": [
       "(200118, 2)"
      ]
     },
     "execution_count": 12,
     "metadata": {},
     "output_type": "execute_result"
    }
   ],
   "source": [
    "#Checking the shape of the data to ensure nothing is broken\n",
    "data.shape"
   ]
  },
  {
   "cell_type": "code",
   "execution_count": 13,
   "id": "enormous-appointment",
   "metadata": {
    "execution": {
     "iopub.execute_input": "2022-10-15T16:13:57.398089Z",
     "iopub.status.busy": "2022-10-15T16:13:57.397241Z",
     "iopub.status.idle": "2022-10-15T16:13:57.416607Z",
     "shell.execute_reply": "2022-10-15T16:13:57.417125Z",
     "shell.execute_reply.started": "2022-10-15T14:06:40.516491Z"
    },
    "papermill": {
     "duration": 0.043154,
     "end_time": "2022-10-15T16:13:57.417315",
     "exception": false,
     "start_time": "2022-10-15T16:13:57.374161",
     "status": "completed"
    },
    "tags": []
   },
   "outputs": [
    {
     "name": "stdout",
     "output_type": "stream",
     "text": [
      "Length of punctuations:\t 32 \n",
      "Length of stopwords:\t 326\n"
     ]
    }
   ],
   "source": [
    "#Getting Stopwords\n",
    "from spacy.lang.en.stop_words import STOP_WORDS\n",
    "stopwords = list(STOP_WORDS)\n",
    "\n",
    "#Getting a list of punctuations\n",
    "from string import punctuation\n",
    "punct = list(punctuation)\n",
    "\n",
    "print(\"Length of punctuations:\\t {} \\nLength of stopwords:\\t {}\".format(len(punct), len(stopwords)))"
   ]
  },
  {
   "cell_type": "code",
   "execution_count": 14,
   "id": "changed-endorsement",
   "metadata": {
    "execution": {
     "iopub.execute_input": "2022-10-15T16:13:57.477908Z",
     "iopub.status.busy": "2022-10-15T16:13:57.477154Z",
     "iopub.status.idle": "2022-10-15T16:13:57.805767Z",
     "shell.execute_reply": "2022-10-15T16:13:57.805080Z",
     "shell.execute_reply.started": "2022-10-15T14:06:40.544817Z"
    },
    "papermill": {
     "duration": 0.370544,
     "end_time": "2022-10-15T16:13:57.805918",
     "exception": false,
     "start_time": "2022-10-15T16:13:57.435374",
     "status": "completed"
    },
    "tags": []
   },
   "outputs": [
    {
     "data": {
      "image/png": "[encoded data removed]",
      "text/plain": [
       "<Figure size 720x720 with 1 Axes>"
      ]
     },
     "metadata": {},
     "output_type": "display_data"
    }
   ],
   "source": [
    "fig ,ax = plt.subplots(figsize = (10,10))\n",
    "ax = data['category'].value_counts().plot(kind = 'bar')\n",
    "\n",
    "plt.xticks(rotation = 0, size = 15)\n",
    "plt.yticks(size = 5, color = 'white')\n",
    "plt.title('Distribution of Sentiment', size = 20)\n",
    "\n",
    "ax.annotate(text = data['category'].value_counts().values[0], xy = (-0.13,88079), size = 15)\n",
    "ax.annotate(text = data['category'].value_counts().values[1], xy = (0.87,68253), size = 15)\n",
    "ax.annotate(text = data['category'].value_counts().values[2], xy = (1.87,43786), size = 15)\n",
    "\n",
    "plt.show()"
   ]
  },
  {
   "cell_type": "code",
   "execution_count": 15,
   "id": "instructional-tribute",
   "metadata": {
    "execution": {
     "iopub.execute_input": "2022-10-15T16:13:57.850708Z",
     "iopub.status.busy": "2022-10-15T16:13:57.850009Z",
     "iopub.status.idle": "2022-10-15T16:14:01.863815Z",
     "shell.execute_reply": "2022-10-15T16:14:01.864282Z",
     "shell.execute_reply.started": "2022-10-15T14:06:40.911817Z"
    },
    "papermill": {
     "duration": 4.039322,
     "end_time": "2022-10-15T16:14:01.864467",
     "exception": false,
     "start_time": "2022-10-15T16:13:57.825145",
     "status": "completed"
    },
    "tags": []
   },
   "outputs": [
    {
     "name": "stdout",
     "output_type": "stream",
     "text": [
      "The size of the count matrix for the texts = (200118, 1048576)\n",
      "The sparse count matrix is as follows:\n",
      "  (0, 66497)\t0.14002800840280097\n",
      "  (0, 88541)\t0.28005601680560194\n",
      "  (0, 99311)\t0.14002800840280097\n",
      "  (0, 158803)\t-0.28005601680560194\n",
      "  (0, 176558)\t0.14002800840280097\n",
      "  (0, 180525)\t-0.14002800840280097\n",
      "  (0, 189643)\t-0.14002800840280097\n",
      "  (0, 216640)\t-0.14002800840280097\n",
      "  (0, 246361)\t-0.14002800840280097\n",
      "  (0, 281416)\t-0.14002800840280097\n",
      "  (0, 286878)\t-0.28005601680560194\n",
      "  (0, 298956)\t0.14002800840280097\n",
      "  (0, 331884)\t-0.14002800840280097\n",
      "  (0, 336791)\t0.14002800840280097\n",
      "  (0, 570460)\t-0.14002800840280097\n",
      "  (0, 590295)\t-0.14002800840280097\n",
      "  (0, 636025)\t0.14002800840280097\n",
      "  (0, 639622)\t-0.14002800840280097\n",
      "  (0, 647008)\t-0.14002800840280097\n",
      "  (0, 694840)\t0.14002800840280097\n",
      "  (0, 699224)\t-0.14002800840280097\n",
      "  (0, 720710)\t0.14002800840280097\n",
      "  (0, 770962)\t-0.14002800840280097\n",
      "  (0, 777676)\t0.14002800840280097\n",
      "  (0, 873637)\t-0.14002800840280097\n",
      "  :\t:\n",
      "  (200117, 257965)\t0.16222142113076254\n",
      "  (200117, 286878)\t-0.16222142113076254\n",
      "  (200117, 338809)\t0.16222142113076254\n",
      "  (200117, 372702)\t0.16222142113076254\n",
      "  (200117, 408714)\t-0.16222142113076254\n",
      "  (200117, 413699)\t-0.16222142113076254\n",
      "  (200117, 433698)\t0.16222142113076254\n",
      "  (200117, 449993)\t-0.16222142113076254\n",
      "  (200117, 487855)\t-0.16222142113076254\n",
      "  (200117, 507870)\t-0.16222142113076254\n",
      "  (200117, 512176)\t0.16222142113076254\n",
      "  (200117, 528700)\t-0.16222142113076254\n",
      "  (200117, 642085)\t0.16222142113076254\n",
      "  (200117, 675997)\t0.16222142113076254\n",
      "  (200117, 707819)\t0.16222142113076254\n",
      "  (200117, 730607)\t-0.16222142113076254\n",
      "  (200117, 731192)\t0.3244428422615251\n",
      "  (200117, 800174)\t-0.16222142113076254\n",
      "  (200117, 814105)\t0.16222142113076254\n",
      "  (200117, 832412)\t0.16222142113076254\n",
      "  (200117, 865514)\t0.16222142113076254\n",
      "  (200117, 865966)\t0.16222142113076254\n",
      "  (200117, 975831)\t-0.16222142113076254\n",
      "  (200117, 994433)\t0.16222142113076254\n",
      "  (200117, 1031365)\t0.16222142113076254\n",
      "The size of the tf_idf matrix for the texts = (200118, 1048576)\n",
      "The sparse tf_idf matrix is as follows:\n",
      "  (0, 1005723)\t-0.10434674855047239\n",
      "  (0, 994433)\t0.20921265097415948\n",
      "  (0, 975831)\t-0.07876591237300017\n",
      "  (0, 949757)\t0.10741568289205695\n",
      "  (0, 930443)\t0.07293586296657113\n",
      "  (0, 927512)\t0.24593257824400871\n",
      "  (0, 905713)\t0.11809068666970735\n",
      "  (0, 901236)\t-0.105672412539855\n",
      "  (0, 899007)\t-0.21208407593938183\n",
      "  (0, 873637)\t-0.1901092345355487\n",
      "  (0, 777676)\t0.09861197660578788\n",
      "  (0, 770962)\t-0.24888387265290973\n",
      "  (0, 720710)\t0.18517734322196264\n",
      "  (0, 699224)\t-0.1519147722870182\n",
      "  (0, 694840)\t0.11603906817052086\n",
      "  (0, 647008)\t-0.19963034553967557\n",
      "  (0, 639622)\t-0.20067472298622852\n",
      "  (0, 636025)\t0.1322760125534672\n",
      "  (0, 590295)\t-0.09491272896800283\n",
      "  (0, 570460)\t-0.14735501522285915\n",
      "  (0, 336791)\t0.19736979100171234\n",
      "  (0, 331884)\t-0.07464372128638792\n",
      "  (0, 298956)\t0.2159945766799911\n",
      "  (0, 286878)\t-0.08436432457367855\n",
      "  (0, 281416)\t-0.27657228563153397\n",
      "  :\t:\n",
      "  (200117, 800174)\t-0.26090602884947744\n",
      "  (200117, 731192)\t0.3393484161726735\n",
      "  (200117, 730607)\t-0.1120668863785222\n",
      "  (200117, 707819)\t0.3425922265561277\n",
      "  (200117, 675997)\t0.08584218427402279\n",
      "  (200117, 642085)\t0.17675181719896313\n",
      "  (200117, 528700)\t-0.10800230596582497\n",
      "  (200117, 512176)\t0.08439563669955082\n",
      "  (200117, 507870)\t-0.22116262923948804\n",
      "  (200117, 487855)\t-0.08158411176994781\n",
      "  (200117, 449993)\t-0.1358812074025427\n",
      "  (200117, 433698)\t0.03919676097941343\n",
      "  (200117, 413699)\t-0.2724422153220525\n",
      "  (200117, 408714)\t-0.11688898324555747\n",
      "  (200117, 372702)\t0.09256358208179272\n",
      "  (200117, 338809)\t0.11080654872369256\n",
      "  (200117, 286878)\t-0.05531539282375902\n",
      "  (200117, 257965)\t0.1924890905513826\n",
      "  (200117, 213357)\t0.19926429359175413\n",
      "  (200117, 194734)\t0.34212646471537744\n",
      "  (200117, 189643)\t-0.06920230003914404\n",
      "  (200117, 181881)\t-0.16555890931025868\n",
      "  (200117, 176851)\t-0.26134187464234343\n",
      "  (200117, 77761)\t-0.12284973712541565\n",
      "  (200117, 60869)\t-0.11978276033161156\n"
     ]
    }
   ],
   "source": [
    "from sklearn.feature_extraction.text import CountVectorizer,TfidfTransformer,HashingVectorizer\n",
    "from sklearn.feature_extraction.text import TfidfVectorizer\n",
    "import numpy as np\n",
    "# Create a Vectorizer Object using default parameters\n",
    "hash_vectorizer = HashingVectorizer()\n",
    "# Convert a collection of text documents to a matrix of token counts\n",
    "token_count_matrix=hash_vectorizer.fit_transform(data['text'])\n",
    "print(f'The size of the count matrix for the texts = {token_count_matrix.get_shape()}')\n",
    "print(f'The sparse count matrix is as follows:')\n",
    "print(token_count_matrix)\n",
    "\n",
    "# Create a tf_idf object using default parameters\n",
    "tf_idf_transformer=TfidfTransformer(use_idf=True, smooth_idf=True, sublinear_tf=False) \n",
    "\n",
    "# Fit to the count matrix, then transform it to a normalized tf-idf representation\n",
    "tf_idf_matrix = tf_idf_transformer.fit_transform(token_count_matrix)\n",
    "\n",
    "print(f'The size of the tf_idf matrix for the texts = {tf_idf_matrix.get_shape()}')\n",
    "print(f'The sparse tf_idf matrix is as follows:')\n",
    "print(tf_idf_matrix)"
   ]
  },
  {
   "cell_type": "code",
   "execution_count": 16,
   "id": "international-measure",
   "metadata": {
    "execution": {
     "iopub.execute_input": "2022-10-15T16:14:01.915990Z",
     "iopub.status.busy": "2022-10-15T16:14:01.908948Z",
     "iopub.status.idle": "2022-10-15T16:14:01.954492Z",
     "shell.execute_reply": "2022-10-15T16:14:01.953638Z",
     "shell.execute_reply.started": "2022-10-15T14:13:28.593682Z"
    },
    "papermill": {
     "duration": 0.070643,
     "end_time": "2022-10-15T16:14:01.954757",
     "exception": false,
     "start_time": "2022-10-15T16:14:01.884114",
     "status": "completed"
    },
    "tags": []
   },
   "outputs": [],
   "source": [
    "#Getting X and y\n",
    "\n",
    "X = tf_idf_matrix\n",
    "y = data.category\n",
    "\n",
    "#Splitting the data into training and testing\n",
    "from sklearn.model_selection import train_test_split\n",
    "\n",
    "X_train, X_test, y_train, y_test = train_test_split(X, y,\n",
    "                                                    test_size=0.2)"
   ]
  },
  {
   "cell_type": "code",
   "execution_count": 17,
   "id": "handed-corporation",
   "metadata": {
    "execution": {
     "iopub.execute_input": "2022-10-15T16:14:01.999115Z",
     "iopub.status.busy": "2022-10-15T16:14:01.998294Z",
     "iopub.status.idle": "2022-10-15T16:14:09.021418Z",
     "shell.execute_reply": "2022-10-15T16:14:09.020382Z",
     "shell.execute_reply.started": "2022-10-15T14:13:29.700479Z"
    },
    "papermill": {
     "duration": 7.047136,
     "end_time": "2022-10-15T16:14:09.021669",
     "exception": false,
     "start_time": "2022-10-15T16:14:01.974533",
     "status": "completed"
    },
    "tags": []
   },
   "outputs": [
    {
     "name": "stdout",
     "output_type": "stream",
     "text": [
      "Accuracy: 94.361%\n"
     ]
    }
   ],
   "source": [
    "#Creating, fitting and scoring classifier\n",
    "classifier = LinearSVC()\n",
    "classifier.fit(X_train, y_train)\n",
    "print(f\"Accuracy: {classifier.score(X_test, y_test) * 100:.3f}%\", )"
   ]
  },
  {
   "cell_type": "code",
   "execution_count": 18,
   "id": "lyric-taiwan",
   "metadata": {
    "execution": {
     "iopub.execute_input": "2022-10-15T16:14:09.067257Z",
     "iopub.status.busy": "2022-10-15T16:14:09.066515Z",
     "iopub.status.idle": "2022-10-15T16:14:09.170243Z",
     "shell.execute_reply": "2022-10-15T16:14:09.169470Z",
     "shell.execute_reply.started": "2022-10-15T14:47:48.092956Z"
    },
    "papermill": {
     "duration": 0.127747,
     "end_time": "2022-10-15T16:14:09.170395",
     "exception": false,
     "start_time": "2022-10-15T16:14:09.042648",
     "status": "completed"
    },
    "tags": []
   },
   "outputs": [
    {
     "data": {
      "text/plain": [
       "KNeighborsClassifier(n_neighbors=7)"
      ]
     },
     "execution_count": 18,
     "metadata": {},
     "output_type": "execute_result"
    }
   ],
   "source": [
    "from sklearn.neighbors import KNeighborsClassifier\n",
    "knn=KNeighborsClassifier(n_neighbors=7)\n",
    "\n",
    "knn.fit(X_train,y_train)"
   ]
  },
  {
   "cell_type": "code",
   "execution_count": 19,
   "id": "charming-alcohol",
   "metadata": {
    "execution": {
     "iopub.execute_input": "2022-10-15T16:14:09.219264Z",
     "iopub.status.busy": "2022-10-15T16:14:09.218084Z",
     "iopub.status.idle": "2022-10-15T16:41:11.125792Z",
     "shell.execute_reply": "2022-10-15T16:41:11.126327Z",
     "shell.execute_reply.started": "2022-10-15T15:13:27.448159Z"
    },
    "papermill": {
     "duration": 1621.93562,
     "end_time": "2022-10-15T16:41:11.126545",
     "exception": false,
     "start_time": "2022-10-15T16:14:09.190925",
     "status": "completed"
    },
    "tags": []
   },
   "outputs": [
    {
     "name": "stdout",
     "output_type": "stream",
     "text": [
      "Classification Report is:\n",
      "               precision    recall  f1-score   support\n",
      "\n",
      "        -1.0       0.81      0.06      0.11      8626\n",
      "         0.0       0.36      0.99      0.53     13768\n",
      "         1.0       0.91      0.09      0.17     17630\n",
      "\n",
      "    accuracy                           0.39     40024\n",
      "   macro avg       0.69      0.38      0.27     40024\n",
      "weighted avg       0.70      0.39      0.28     40024\n",
      "\n",
      "Confusion Matrix:\n",
      " [[  505  8070    51]\n",
      " [   29 13627   112]\n",
      " [   90 15912  1628]]\n",
      "Training Score:\n",
      " 40.291953477332065\n"
     ]
    }
   ],
   "source": [
    "y_pred=knn.predict(X_test)\n",
    "from sklearn.metrics import accuracy_score,classification_report,confusion_matrix\n",
    "from sklearn.metrics import r2_score\n",
    "from sklearn.metrics import mean_squared_error\n",
    "print(\"Classification Report is:\\n\",classification_report(y_test,y_pred))\n",
    "print(\"Confusion Matrix:\\n\",confusion_matrix(y_test,y_pred))\n",
    "print(\"Training Score:\\n\",knn.score(X_train,y_train)*100)"
   ]
  }
 ],
 "metadata": {
  "kernelspec": {
   "display_name": "Python 3",
   "language": "python",
   "name": "python3"
  },
  "language_info": {
   "codemirror_mode": {
    "name": "ipython",
    "version": 3
   },
   "file_extension": ".py",
   "mimetype": "text/x-python",
   "name": "python",
   "nbconvert_exporter": "python",
   "pygments_lexer": "ipython3",
   "version": "3.7.10"
  },
  "papermill": {
   "default_parameters": {},
   "duration": 1647.526735,
   "end_time": "2022-10-15T16:41:12.909981",
   "environment_variables": {},
   "exception": null,
   "input_path": "__notebook__.ipynb",
   "output_path": "__notebook__.ipynb",
   "parameters": {},
   "start_time": "2022-10-15T16:13:45.383246",
   "version": "2.3.3"
  }
 },
 "nbformat": 4,
 "nbformat_minor": 5
}
